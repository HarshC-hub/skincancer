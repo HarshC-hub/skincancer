{
 "cells": [
  {
   "cell_type": "code",
   "execution_count": null,
   "metadata": {
    "colab": {
     "base_uri": "https://localhost:8080/"
    },
    "executionInfo": {
     "elapsed": 24111,
     "status": "ok",
     "timestamp": 1621490891786,
     "user": {
      "displayName": "Va Fa Napoli",
      "photoUrl": "",
      "userId": "17637464824648077645"
     },
     "user_tz": -330
    },
    "id": "nxuqhmXXplPU",
    "outputId": "0cdf0644-f075-4d3b-a5c8-bb9c2c8ddb21"
   },
   "outputs": [],
   "source": [
    "# USE ONLY WHILE WORKING ON COLAB\n",
    "from google.colab import drive\n",
    "drive.mount(\"/content/drive/\")"
   ]
  },
  {
   "cell_type": "code",
   "execution_count": 2,
   "metadata": {
    "executionInfo": {
     "elapsed": 1838,
     "status": "ok",
     "timestamp": 1621490869470,
     "user": {
      "displayName": "Va Fa Napoli",
      "photoUrl": "",
      "userId": "17637464824648077645"
     },
     "user_tz": -330
    },
    "id": "RWfcJdOno-bW"
   },
   "outputs": [],
   "source": [
    "import pandas as pd\n",
    "import numpy as np"
   ]
  },
  {
   "cell_type": "code",
   "execution_count": 3,
   "metadata": {
    "executionInfo": {
     "elapsed": 1327,
     "status": "ok",
     "timestamp": 1621490896437,
     "user": {
      "displayName": "Va Fa Napoli",
      "photoUrl": "",
      "userId": "17637464824648077645"
     },
     "user_tz": -330
    },
    "id": "cu1oXQ0lpwKp"
   },
   "outputs": [],
   "source": [
    "#Dataset used: https://www.kaggle.com/kmader/skin-cancer-mnist-ham10000\n",
    "path=\"D:\\Project Data\\hmnist_28_28_RGB.csv\""
   ]
  },
  {
   "cell_type": "code",
   "execution_count": 4,
   "metadata": {
    "executionInfo": {
     "elapsed": 7059,
     "status": "ok",
     "timestamp": 1621490902649,
     "user": {
      "displayName": "Va Fa Napoli",
      "photoUrl": "",
      "userId": "17637464824648077645"
     },
     "user_tz": -330
    },
    "id": "wtXf-XTIrGX7"
   },
   "outputs": [],
   "source": [
    "df = pd.read_csv(path)"
   ]
  },
  {
   "cell_type": "code",
   "execution_count": 5,
   "metadata": {
    "colab": {
     "base_uri": "https://localhost:8080/",
     "height": 244
    },
    "executionInfo": {
     "elapsed": 6377,
     "status": "ok",
     "timestamp": 1621490902663,
     "user": {
      "displayName": "Va Fa Napoli",
      "photoUrl": "",
      "userId": "17637464824648077645"
     },
     "user_tz": -330
    },
    "id": "OG1UlYVarJ-w",
    "outputId": "535fc823-570e-42ab-b9d1-7352512d1a21"
   },
   "outputs": [
    {
     "data": {
      "text/html": [
       "<div>\n",
       "<style scoped>\n",
       "    .dataframe tbody tr th:only-of-type {\n",
       "        vertical-align: middle;\n",
       "    }\n",
       "\n",
       "    .dataframe tbody tr th {\n",
       "        vertical-align: top;\n",
       "    }\n",
       "\n",
       "    .dataframe thead th {\n",
       "        text-align: right;\n",
       "    }\n",
       "</style>\n",
       "<table border=\"1\" class=\"dataframe\">\n",
       "  <thead>\n",
       "    <tr style=\"text-align: right;\">\n",
       "      <th></th>\n",
       "      <th>pixel0000</th>\n",
       "      <th>pixel0001</th>\n",
       "      <th>pixel0002</th>\n",
       "      <th>pixel0003</th>\n",
       "      <th>pixel0004</th>\n",
       "      <th>pixel0005</th>\n",
       "      <th>pixel0006</th>\n",
       "      <th>pixel0007</th>\n",
       "      <th>pixel0008</th>\n",
       "      <th>pixel0009</th>\n",
       "      <th>...</th>\n",
       "      <th>pixel2343</th>\n",
       "      <th>pixel2344</th>\n",
       "      <th>pixel2345</th>\n",
       "      <th>pixel2346</th>\n",
       "      <th>pixel2347</th>\n",
       "      <th>pixel2348</th>\n",
       "      <th>pixel2349</th>\n",
       "      <th>pixel2350</th>\n",
       "      <th>pixel2351</th>\n",
       "      <th>label</th>\n",
       "    </tr>\n",
       "  </thead>\n",
       "  <tbody>\n",
       "    <tr>\n",
       "      <th>10010</th>\n",
       "      <td>183</td>\n",
       "      <td>165</td>\n",
       "      <td>181</td>\n",
       "      <td>182</td>\n",
       "      <td>165</td>\n",
       "      <td>180</td>\n",
       "      <td>184</td>\n",
       "      <td>166</td>\n",
       "      <td>182</td>\n",
       "      <td>188</td>\n",
       "      <td>...</td>\n",
       "      <td>208</td>\n",
       "      <td>185</td>\n",
       "      <td>187</td>\n",
       "      <td>208</td>\n",
       "      <td>186</td>\n",
       "      <td>186</td>\n",
       "      <td>206</td>\n",
       "      <td>187</td>\n",
       "      <td>189</td>\n",
       "      <td>0</td>\n",
       "    </tr>\n",
       "    <tr>\n",
       "      <th>10011</th>\n",
       "      <td>2</td>\n",
       "      <td>3</td>\n",
       "      <td>1</td>\n",
       "      <td>38</td>\n",
       "      <td>33</td>\n",
       "      <td>32</td>\n",
       "      <td>121</td>\n",
       "      <td>104</td>\n",
       "      <td>103</td>\n",
       "      <td>132</td>\n",
       "      <td>...</td>\n",
       "      <td>96</td>\n",
       "      <td>79</td>\n",
       "      <td>76</td>\n",
       "      <td>24</td>\n",
       "      <td>23</td>\n",
       "      <td>21</td>\n",
       "      <td>3</td>\n",
       "      <td>4</td>\n",
       "      <td>1</td>\n",
       "      <td>0</td>\n",
       "    </tr>\n",
       "    <tr>\n",
       "      <th>10012</th>\n",
       "      <td>132</td>\n",
       "      <td>118</td>\n",
       "      <td>118</td>\n",
       "      <td>167</td>\n",
       "      <td>149</td>\n",
       "      <td>149</td>\n",
       "      <td>175</td>\n",
       "      <td>156</td>\n",
       "      <td>160</td>\n",
       "      <td>184</td>\n",
       "      <td>...</td>\n",
       "      <td>204</td>\n",
       "      <td>181</td>\n",
       "      <td>178</td>\n",
       "      <td>181</td>\n",
       "      <td>159</td>\n",
       "      <td>153</td>\n",
       "      <td>172</td>\n",
       "      <td>151</td>\n",
       "      <td>145</td>\n",
       "      <td>0</td>\n",
       "    </tr>\n",
       "    <tr>\n",
       "      <th>10013</th>\n",
       "      <td>160</td>\n",
       "      <td>124</td>\n",
       "      <td>146</td>\n",
       "      <td>164</td>\n",
       "      <td>131</td>\n",
       "      <td>152</td>\n",
       "      <td>167</td>\n",
       "      <td>127</td>\n",
       "      <td>146</td>\n",
       "      <td>169</td>\n",
       "      <td>...</td>\n",
       "      <td>185</td>\n",
       "      <td>162</td>\n",
       "      <td>167</td>\n",
       "      <td>184</td>\n",
       "      <td>157</td>\n",
       "      <td>166</td>\n",
       "      <td>185</td>\n",
       "      <td>162</td>\n",
       "      <td>172</td>\n",
       "      <td>0</td>\n",
       "    </tr>\n",
       "    <tr>\n",
       "      <th>10014</th>\n",
       "      <td>175</td>\n",
       "      <td>142</td>\n",
       "      <td>121</td>\n",
       "      <td>181</td>\n",
       "      <td>150</td>\n",
       "      <td>134</td>\n",
       "      <td>181</td>\n",
       "      <td>150</td>\n",
       "      <td>133</td>\n",
       "      <td>178</td>\n",
       "      <td>...</td>\n",
       "      <td>159</td>\n",
       "      <td>79</td>\n",
       "      <td>82</td>\n",
       "      <td>174</td>\n",
       "      <td>137</td>\n",
       "      <td>125</td>\n",
       "      <td>175</td>\n",
       "      <td>139</td>\n",
       "      <td>126</td>\n",
       "      <td>6</td>\n",
       "    </tr>\n",
       "  </tbody>\n",
       "</table>\n",
       "<p>5 rows × 2353 columns</p>\n",
       "</div>"
      ],
      "text/plain": [
       "       pixel0000  pixel0001  pixel0002  pixel0003  pixel0004  pixel0005  \\\n",
       "10010        183        165        181        182        165        180   \n",
       "10011          2          3          1         38         33         32   \n",
       "10012        132        118        118        167        149        149   \n",
       "10013        160        124        146        164        131        152   \n",
       "10014        175        142        121        181        150        134   \n",
       "\n",
       "       pixel0006  pixel0007  pixel0008  pixel0009  ...  pixel2343  pixel2344  \\\n",
       "10010        184        166        182        188  ...        208        185   \n",
       "10011        121        104        103        132  ...         96         79   \n",
       "10012        175        156        160        184  ...        204        181   \n",
       "10013        167        127        146        169  ...        185        162   \n",
       "10014        181        150        133        178  ...        159         79   \n",
       "\n",
       "       pixel2345  pixel2346  pixel2347  pixel2348  pixel2349  pixel2350  \\\n",
       "10010        187        208        186        186        206        187   \n",
       "10011         76         24         23         21          3          4   \n",
       "10012        178        181        159        153        172        151   \n",
       "10013        167        184        157        166        185        162   \n",
       "10014         82        174        137        125        175        139   \n",
       "\n",
       "       pixel2351  label  \n",
       "10010        189      0  \n",
       "10011          1      0  \n",
       "10012        145      0  \n",
       "10013        172      0  \n",
       "10014        126      6  \n",
       "\n",
       "[5 rows x 2353 columns]"
      ]
     },
     "execution_count": 5,
     "metadata": {},
     "output_type": "execute_result"
    }
   ],
   "source": [
    "df.tail()"
   ]
  },
  {
   "cell_type": "code",
   "execution_count": 6,
   "metadata": {
    "executionInfo": {
     "elapsed": 1632,
     "status": "ok",
     "timestamp": 1621490906727,
     "user": {
      "displayName": "Va Fa Napoli",
      "photoUrl": "",
      "userId": "17637464824648077645"
     },
     "user_tz": -330
    },
    "id": "3u4kkVqlrOV2"
   },
   "outputs": [],
   "source": [
    "fractions=np.array([0.8,0.2])\n",
    "df=df.sample(frac=1)\n",
    "train_set, test_set = np.array_split(\n",
    "    df, (fractions[:-1].cumsum() * len(df)).astype(int))"
   ]
  },
  {
   "cell_type": "code",
   "execution_count": 7,
   "metadata": {
    "colab": {
     "base_uri": "https://localhost:8080/"
    },
    "executionInfo": {
     "elapsed": 1479,
     "status": "ok",
     "timestamp": 1621490907142,
     "user": {
      "displayName": "Va Fa Napoli",
      "photoUrl": "",
      "userId": "17637464824648077645"
     },
     "user_tz": -330
    },
    "id": "sb0MbLTF1cGr",
    "outputId": "1c18e860-4bf2-4aae-d8bd-7a7b0b0fe4a6"
   },
   "outputs": [
    {
     "name": "stdout",
     "output_type": "stream",
     "text": [
      "8012\n"
     ]
    }
   ],
   "source": [
    "print(len(train_set))"
   ]
  },
  {
   "cell_type": "code",
   "execution_count": 8,
   "metadata": {
    "colab": {
     "base_uri": "https://localhost:8080/"
    },
    "executionInfo": {
     "elapsed": 1597,
     "status": "ok",
     "timestamp": 1621490907748,
     "user": {
      "displayName": "Va Fa Napoli",
      "photoUrl": "",
      "userId": "17637464824648077645"
     },
     "user_tz": -330
    },
    "id": "6DhB2s7X1qfR",
    "outputId": "3b971adc-8194-4efe-e7a6-02b17487d52d"
   },
   "outputs": [
    {
     "name": "stdout",
     "output_type": "stream",
     "text": [
      "2003\n"
     ]
    }
   ],
   "source": [
    "print(len(test_set))"
   ]
  },
  {
   "cell_type": "code",
   "execution_count": 9,
   "metadata": {
    "colab": {
     "base_uri": "https://localhost:8080/"
    },
    "executionInfo": {
     "elapsed": 1478,
     "status": "ok",
     "timestamp": 1621490910517,
     "user": {
      "displayName": "Va Fa Napoli",
      "photoUrl": "",
      "userId": "17637464824648077645"
     },
     "user_tz": -330
    },
    "id": "rpb3YhzI1sq6",
    "outputId": "80762e95-e27c-4c02-8f52-bc68380cb807"
   },
   "outputs": [
    {
     "data": {
      "text/plain": [
       "array([4, 1, 3, 6, 0, 2, 5], dtype=int64)"
      ]
     },
     "execution_count": 9,
     "metadata": {},
     "output_type": "execute_result"
    }
   ],
   "source": [
    "df.label.unique()"
   ]
  },
  {
   "cell_type": "code",
   "execution_count": 10,
   "metadata": {
    "executionInfo": {
     "elapsed": 820,
     "status": "ok",
     "timestamp": 1621490912060,
     "user": {
      "displayName": "Va Fa Napoli",
      "photoUrl": "",
      "userId": "17637464824648077645"
     },
     "user_tz": -330
    },
    "id": "SBw897AG1vzd"
   },
   "outputs": [],
   "source": [
    "classes={0:('actinic keratoses and intraepithelial carcinomae(Cancer)'),\n",
    "         1:('basal cell carcinoma(Cancer)'),\n",
    "         2:('benign keratosis-like lesions(Non-Cancerous)'),\n",
    "         3:('dermatofibroma(Non-Cancerous)'),\n",
    "         4:('melanocytic nevi(Non-Cancerous)'),\n",
    "         5:('pyogenic granulomas and hemorrhage(Can lead to cancer)'),\n",
    "         6:('melanoma(Cancer)')}\n"
   ]
  },
  {
   "cell_type": "code",
   "execution_count": 11,
   "metadata": {
    "executionInfo": {
     "elapsed": 996,
     "status": "ok",
     "timestamp": 1621490915214,
     "user": {
      "displayName": "Va Fa Napoli",
      "photoUrl": "",
      "userId": "17637464824648077645"
     },
     "user_tz": -330
    },
    "id": "wbxizrkJ15Cj"
   },
   "outputs": [],
   "source": [
    "y_train = train_set['label']\n",
    "x_train = train_set.drop(columns=['label'])\n",
    "y_test = test_set['label']\n",
    "x_test = test_set.drop(columns=['label'])\n"
   ]
  },
  {
   "cell_type": "code",
   "execution_count": 12,
   "metadata": {
    "colab": {
     "base_uri": "https://localhost:8080/",
     "height": 350
    },
    "executionInfo": {
     "elapsed": 1830,
     "status": "ok",
     "timestamp": 1621490917738,
     "user": {
      "displayName": "Va Fa Napoli",
      "photoUrl": "",
      "userId": "17637464824648077645"
     },
     "user_tz": -330
    },
    "id": "I9ykNRTn2SwS",
    "outputId": "1658abb8-2f82-497c-c96f-603a82127c68"
   },
   "outputs": [
    {
     "name": "stderr",
     "output_type": "stream",
     "text": [
      "C:\\Users\\harsh\\anaconda3\\envs\\tensorflow_session\\lib\\site-packages\\seaborn\\_decorators.py:36: FutureWarning: Pass the following variable as a keyword arg: x. From version 0.12, the only valid positional argument will be `data`, and passing other arguments without an explicit keyword will result in an error or misinterpretation.\n",
      "  warnings.warn(\n"
     ]
    },
    {
     "data": {
      "text/plain": [
       "<AxesSubplot:xlabel='label', ylabel='count'>"
      ]
     },
     "execution_count": 12,
     "metadata": {},
     "output_type": "execute_result"
    },
    {
     "data": {
      "image/png": "[encoded data removed]",
      "text/plain": [
       "<Figure size 432x288 with 1 Axes>"
      ]
     },
     "metadata": {
      "needs_background": "light"
     },
     "output_type": "display_data"
    }
   ],
   "source": [
    "import seaborn as sns\n",
    "sns.countplot(train_set['label'])"
   ]
  },
  {
   "cell_type": "code",
   "execution_count": 13,
   "metadata": {
    "colab": {
     "base_uri": "https://localhost:8080/"
    },
    "executionInfo": {
     "elapsed": 2636,
     "status": "ok",
     "timestamp": 1621490921765,
     "user": {
      "displayName": "Va Fa Napoli",
      "photoUrl": "",
      "userId": "17637464824648077645"
     },
     "user_tz": -330
    },
    "id": "XxH28yNQ2d89",
    "outputId": "5c5d953b-fb0f-405d-a0a1-2a933fa266b2"
   },
   "outputs": [],
   "source": [
    "from imblearn.over_sampling import RandomOverSampler \n",
    "oversample = RandomOverSampler()\n",
    "x_train,y_train  = oversample.fit_resample(x_train,y_train)"
   ]
  },
  {
   "cell_type": "code",
   "execution_count": 14,
   "metadata": {
    "colab": {
     "base_uri": "https://localhost:8080/",
     "height": 335
    },
    "executionInfo": {
     "elapsed": 1746,
     "status": "ok",
     "timestamp": 1621490924746,
     "user": {
      "displayName": "Va Fa Napoli",
      "photoUrl": "",
      "userId": "17637464824648077645"
     },
     "user_tz": -330
    },
    "id": "aBG591FV4FLV",
    "outputId": "90a73830-7c1e-4761-c32d-5d2313bfa78e"
   },
   "outputs": [
    {
     "name": "stderr",
     "output_type": "stream",
     "text": [
      "C:\\Users\\harsh\\anaconda3\\envs\\tensorflow_session\\lib\\site-packages\\seaborn\\_decorators.py:36: FutureWarning: Pass the following variable as a keyword arg: x. From version 0.12, the only valid positional argument will be `data`, and passing other arguments without an explicit keyword will result in an error or misinterpretation.\n",
      "  warnings.warn(\n"
     ]
    },
    {
     "data": {
      "text/plain": [
       "<AxesSubplot:xlabel='label', ylabel='count'>"
      ]
     },
     "execution_count": 14,
     "metadata": {},
     "output_type": "execute_result"
    },
    {
     "data": {
      "image/png": "[encoded data removed]",
      "text/plain": [
       "<Figure size 432x288 with 1 Axes>"
      ]
     },
     "metadata": {
      "needs_background": "light"
     },
     "output_type": "display_data"
    }
   ],
   "source": [
    "sns.countplot(y_train)"
   ]
  },
  {
   "cell_type": "code",
   "execution_count": 15,
   "metadata": {
    "colab": {
     "base_uri": "https://localhost:8080/"
    },
    "executionInfo": {
     "elapsed": 1759,
     "status": "ok",
     "timestamp": 1621491086015,
     "user": {
      "displayName": "Va Fa Napoli",
      "photoUrl": "",
      "userId": "17637464824648077645"
     },
     "user_tz": -330
    },
    "id": "5LosZ-iYfK_J",
    "outputId": "eb3795bb-adfe-4d24-a086-f3eda9e31ce9"
   },
   "outputs": [
    {
     "name": "stdout",
     "output_type": "stream",
     "text": [
      "Number of  actinic keratoses and intraepithelial carcinomae(Cancer) images:  5356\n",
      "Number of  basal cell carcinoma(Cancer) images:  5356\n",
      "Number of  benign keratosis-like lesions(Non-Cancerous) images:  5356\n",
      "Number of  dermatofibroma(Non-Cancerous) images:  5356\n",
      "Number of  melanocytic nevi(Non-Cancerous) images:  5356\n",
      "Number of  pyogenic granulomas and hemorrhage(Can lead to cancer) images:  5356\n",
      "Number of  melanoma(Cancer) images:  5356\n"
     ]
    }
   ],
   "source": [
    "for k in range(7):\n",
    "  print(\"Number of \", classes[k],\"images: \", len([i for i in y_train if i==k]))"
   ]
  },
  {
   "cell_type": "code",
   "execution_count": 16,
   "metadata": {
    "colab": {
     "base_uri": "https://localhost:8080/",
     "height": 809
    },
    "executionInfo": {
     "elapsed": 1924,
     "status": "ok",
     "timestamp": 1621491100464,
     "user": {
      "displayName": "Va Fa Napoli",
      "photoUrl": "",
      "userId": "17637464824648077645"
     },
     "user_tz": -330
    },
    "id": "eeV1BAjQ4LCo",
    "outputId": "456c8919-4e85-4a8c-98d8-c02fb78e2453"
   },
   "outputs": [
    {
     "data": {
      "image/png": "[encoded data removed]",
      "text/plain": [
       "<Figure size 432x288 with 1 Axes>"
      ]
     },
     "metadata": {
      "needs_background": "light"
     },
     "output_type": "display_data"
    },
    {
     "data": {
      "image/png": "[encoded data removed]",
      "text/plain": [
       "<Figure size 432x288 with 1 Axes>"
      ]
     },
     "metadata": {
      "needs_background": "light"
     },
     "output_type": "display_data"
    },
    {
     "data": {
      "image/png": "[encoded data removed]",
      "text/plain": [
       "<Figure size 432x288 with 1 Axes>"
      ]
     },
     "metadata": {
      "needs_background": "light"
     },
     "output_type": "display_data"
    }
   ],
   "source": [
    "import matplotlib.pyplot as plt\n",
    "import random\n",
    "x_train = np.array(x_train, dtype=np.uint8).reshape(-1, 28, 28, 3)\n",
    "for _ in range(3):\n",
    "  num = random.randint(0, 8000)\n",
    "  plt.imshow(x_train[num].reshape(28, 28, 3))\n",
    "  plt.title(classes[y_train[num]])\n",
    "  plt.show()\n"
   ]
  },
  {
   "cell_type": "code",
   "execution_count": 17,
   "metadata": {
    "executionInfo": {
     "elapsed": 2433,
     "status": "ok",
     "timestamp": 1621491107417,
     "user": {
      "displayName": "Va Fa Napoli",
      "photoUrl": "",
      "userId": "17637464824648077645"
     },
     "user_tz": -330
    },
    "id": "0lp3af5p4Qh0"
   },
   "outputs": [],
   "source": [
    "from tensorflow.keras.models import Sequential\n",
    "from tensorflow.keras.layers import Conv2D, Flatten, Dense, MaxPool2D\n",
    "import tensorflow as tf"
   ]
  },
  {
   "cell_type": "code",
   "execution_count": 18,
   "metadata": {
    "colab": {
     "base_uri": "https://localhost:8080/"
    },
    "executionInfo": {
     "elapsed": 1679,
     "status": "ok",
     "timestamp": 1621491109880,
     "user": {
      "displayName": "Va Fa Napoli",
      "photoUrl": "",
      "userId": "17637464824648077645"
     },
     "user_tz": -330
    },
    "id": "WuDtJD0i5ZOg",
    "outputId": "1a0b55e9-5286-415a-a8f1-7a8c8c3bd79a"
   },
   "outputs": [
    {
     "name": "stdout",
     "output_type": "stream",
     "text": [
      "Model: \"sequential\"\n",
      "_________________________________________________________________\n",
      "Layer (type)                 Output Shape              Param #   \n",
      "=================================================================\n",
      "conv2d (Conv2D)              (None, 28, 28, 16)        448       \n",
      "_________________________________________________________________\n",
      "max_pooling2d (MaxPooling2D) (None, 14, 14, 16)        0         \n",
      "_________________________________________________________________\n",
      "batch_normalization (BatchNo (None, 14, 14, 16)        64        \n",
      "_________________________________________________________________\n",
      "conv2d_1 (Conv2D)            (None, 12, 12, 32)        4640      \n",
      "_________________________________________________________________\n",
      "conv2d_2 (Conv2D)            (None, 10, 10, 64)        18496     \n",
      "_________________________________________________________________\n",
      "max_pooling2d_1 (MaxPooling2 (None, 5, 5, 64)          0         \n",
      "_________________________________________________________________\n",
      "batch_normalization_1 (Batch (None, 5, 5, 64)          256       \n",
      "_________________________________________________________________\n",
      "conv2d_3 (Conv2D)            (None, 3, 3, 128)         73856     \n",
      "_________________________________________________________________\n",
      "conv2d_4 (Conv2D)            (None, 1, 1, 256)         295168    \n",
      "_________________________________________________________________\n",
      "flatten (Flatten)            (None, 256)               0         \n",
      "_________________________________________________________________\n",
      "dropout (Dropout)            (None, 256)               0         \n",
      "_________________________________________________________________\n",
      "dense (Dense)                (None, 256)               65792     \n",
      "_________________________________________________________________\n",
      "batch_normalization_2 (Batch (None, 256)               1024      \n",
      "_________________________________________________________________\n",
      "dropout_1 (Dropout)          (None, 256)               0         \n",
      "_________________________________________________________________\n",
      "dense_1 (Dense)              (None, 128)               32896     \n",
      "_________________________________________________________________\n",
      "batch_normalization_3 (Batch (None, 128)               512       \n",
      "_________________________________________________________________\n",
      "dense_2 (Dense)              (None, 64)                8256      \n",
      "_________________________________________________________________\n",
      "batch_normalization_4 (Batch (None, 64)                256       \n",
      "_________________________________________________________________\n",
      "dropout_2 (Dropout)          (None, 64)                0         \n",
      "_________________________________________________________________\n",
      "dense_3 (Dense)              (None, 32)                2080      \n",
      "_________________________________________________________________\n",
      "batch_normalization_5 (Batch (None, 32)                128       \n",
      "_________________________________________________________________\n",
      "dense_4 (Dense)              (None, 7)                 231       \n",
      "=================================================================\n",
      "Total params: 504,103\n",
      "Trainable params: 502,983\n",
      "Non-trainable params: 1,120\n",
      "_________________________________________________________________\n"
     ]
    }
   ],
   "source": [
    "model = Sequential()\n",
    "\n",
    "model.add(Conv2D(16, \n",
    "                 kernel_size = (3,3), \n",
    "                 input_shape = (28, 28, 3), \n",
    "                 activation = 'relu', \n",
    "                 padding = 'same'))\n",
    "\n",
    "model.add(MaxPool2D(pool_size = (2,2)))\n",
    "model.add(tf.keras.layers.BatchNormalization())\n",
    "\n",
    "model.add(Conv2D(32, \n",
    "                 kernel_size = (3,3), \n",
    "                 activation = 'relu'))\n",
    "\n",
    "model.add(Conv2D(64, \n",
    "                 kernel_size = (3,3), \n",
    "                 activation = 'relu'))\n",
    "\n",
    "model.add(MaxPool2D(pool_size = (2,2)))\n",
    "\n",
    "model.add(tf.keras.layers.BatchNormalization())\n",
    "\n",
    "model.add(Conv2D(128, \n",
    "                 kernel_size = (3,3), \n",
    "                 activation = 'relu'))\n",
    "\n",
    "model.add(Conv2D(256, \n",
    "                 kernel_size = (3,3), \n",
    "                 activation = 'relu'))\n",
    "\n",
    "model.add(Flatten())\n",
    "model.add(tf.keras.layers.Dropout(0.2))\n",
    "model.add(Dense(256,activation='relu'))\n",
    "\n",
    "model.add(tf.keras.layers.BatchNormalization())\n",
    "model.add(tf.keras.layers.Dropout(0.2))\n",
    "model.add(Dense(128,activation='relu'))\n",
    "\n",
    "model.add(tf.keras.layers.BatchNormalization())\n",
    "model.add(Dense(64,activation='relu'))\n",
    "\n",
    "model.add(tf.keras.layers.BatchNormalization())\n",
    "model.add(tf.keras.layers.Dropout(0.2))\n",
    "model.add(Dense(32,activation='relu'))\n",
    "\n",
    "model.add(tf.keras.layers.BatchNormalization())\n",
    "model.add(Dense(7,activation='softmax'))\n",
    "\n",
    "model.summary()"
   ]
  },
  {
   "cell_type": "code",
   "execution_count": 19,
   "metadata": {
    "id": "wdJ7q76J6mMW"
   },
   "outputs": [],
   "source": [
    "#Checkpoint\n",
    "callback = tf.keras.callbacks.ModelCheckpoint(filepath='best_model.h5',\n",
    "                                                  monitor='val_acc', mode='max',\n",
    "                                                 verbose=1)"
   ]
  },
  {
   "cell_type": "code",
   "execution_count": 21,
   "metadata": {
    "colab": {
     "base_uri": "https://localhost:8080/"
    },
    "executionInfo": {
     "elapsed": 2581008,
     "status": "ok",
     "timestamp": 1621328487715,
     "user": {
      "displayName": "Va Fa Napoli",
      "photoUrl": "",
      "userId": "17637464824648077645"
     },
     "user_tz": -330
    },
    "id": "P9JdY1Rz73tW",
    "outputId": "47cea216-b573-406a-a778-1f8db6a000e7"
   },
   "outputs": [
    {
     "name": "stdout",
     "output_type": "stream",
     "text": [
      "Epoch 1/20\n",
      "234/235 [============================>.] - ETA: 0s - loss: 0.0817 - accuracy: 0.9717\n",
      "Epoch 00001: saving model to best_model.h5\n",
      "235/235 [==============================] - 23s 97ms/step - loss: 0.0816 - accuracy: 0.9717 - val_loss: 0.9095 - val_accuracy: 0.6546\n",
      "Epoch 2/20\n",
      "234/235 [============================>.] - ETA: 0s - loss: 0.0708 - accuracy: 0.9764\n",
      "Epoch 00002: saving model to best_model.h5\n",
      "235/235 [==============================] - 25s 105ms/step - loss: 0.0709 - accuracy: 0.9763 - val_loss: 0.4978 - val_accuracy: 0.7602\n",
      "Epoch 3/20\n",
      "235/235 [==============================] - ETA: 0s - loss: 0.0774 - accuracy: 0.9746 ETA:  - ETA: \n",
      "Epoch 00003: saving model to best_model.h5\n",
      "235/235 [==============================] - 27s 116ms/step - loss: 0.0774 - accuracy: 0.9746 - val_loss: 0.4704 - val_accuracy: 0.8414\n",
      "Epoch 4/20\n",
      "234/235 [============================>.] - ETA: 0s - loss: 0.0456 - accuracy: 0.9842\n",
      "Epoch 00004: saving model to best_model.h5\n",
      "235/235 [==============================] - 22s 95ms/step - loss: 0.0457 - accuracy: 0.9841 - val_loss: 0.2755 - val_accuracy: 0.8832\n",
      "Epoch 5/20\n",
      "234/235 [============================>.] - ETA: 0s - loss: 0.0565 - accuracy: 0.9815\n",
      "Epoch 00005: saving model to best_model.h5\n",
      "235/235 [==============================] - 22s 94ms/step - loss: 0.0567 - accuracy: 0.9814 - val_loss: 0.3924 - val_accuracy: 0.8089\n",
      "Epoch 6/20\n",
      "234/235 [============================>.] - ETA: 0s - loss: 0.0458 - accuracy: 0.9851\n",
      "Epoch 00006: saving model to best_model.h5\n",
      "235/235 [==============================] - 22s 94ms/step - loss: 0.0457 - accuracy: 0.9851 - val_loss: 0.3258 - val_accuracy: 0.8648\n",
      "Epoch 7/20\n",
      "234/235 [============================>.] - ETA: 0s - loss: 0.0405 - accuracy: 0.9856\n",
      "Epoch 00007: saving model to best_model.h5\n",
      "235/235 [==============================] - 22s 94ms/step - loss: 0.0404 - accuracy: 0.9856 - val_loss: 0.4215 - val_accuracy: 0.8625\n",
      "Epoch 8/20\n",
      "234/235 [============================>.] - ETA: 0s - loss: 0.0393 - accuracy: 0.9876\n",
      "Epoch 00008: saving model to best_model.h5\n",
      "235/235 [==============================] - 22s 94ms/step - loss: 0.0397 - accuracy: 0.9874 - val_loss: 0.5431 - val_accuracy: 0.8196\n",
      "Epoch 9/20\n",
      "235/235 [==============================] - ETA: 0s - loss: 0.0446 - accuracy: 0.9864\n",
      "Epoch 00009: saving model to best_model.h5\n",
      "235/235 [==============================] - 23s 96ms/step - loss: 0.0446 - accuracy: 0.9864 - val_loss: 0.6317 - val_accuracy: 0.7822\n",
      "Epoch 10/20\n",
      "234/235 [============================>.] - ETA: 0s - loss: 0.0271 - accuracy: 0.9916\n",
      "Epoch 00010: saving model to best_model.h5\n",
      "235/235 [==============================] - 22s 94ms/step - loss: 0.0272 - accuracy: 0.9916 - val_loss: 0.4242 - val_accuracy: 0.8388\n",
      "Epoch 11/20\n",
      "234/235 [============================>.] - ETA: 0s - loss: 0.0363 - accuracy: 0.9877\n",
      "Epoch 00011: saving model to best_model.h5\n",
      "235/235 [==============================] - 22s 94ms/step - loss: 0.0362 - accuracy: 0.9877 - val_loss: 0.2212 - val_accuracy: 0.8992\n",
      "Epoch 12/20\n",
      "234/235 [============================>.] - ETA: 0s - loss: 0.0276 - accuracy: 0.9912\n",
      "Epoch 00012: saving model to best_model.h5\n",
      "235/235 [==============================] - 22s 94ms/step - loss: 0.0276 - accuracy: 0.9912 - val_loss: 0.1860 - val_accuracy: 0.9373\n",
      "Epoch 13/20\n",
      "234/235 [============================>.] - ETA: 0s - loss: 0.0204 - accuracy: 0.9931\n",
      "Epoch 00013: saving model to best_model.h5\n",
      "235/235 [==============================] - 23s 100ms/step - loss: 0.0206 - accuracy: 0.9931 - val_loss: 0.7963 - val_accuracy: 0.7860\n",
      "Epoch 14/20\n",
      "234/235 [============================>.] - ETA: 0s - loss: 0.0312 - accuracy: 0.9889\n",
      "Epoch 00014: saving model to best_model.h5\n",
      "235/235 [==============================] - 23s 99ms/step - loss: 0.0312 - accuracy: 0.9889 - val_loss: 0.1661 - val_accuracy: 0.9376\n",
      "Epoch 15/20\n",
      "234/235 [============================>.] - ETA: 0s - loss: 0.0258 - accuracy: 0.9918\n",
      "Epoch 00015: saving model to best_model.h5\n",
      "235/235 [==============================] - 22s 94ms/step - loss: 0.0258 - accuracy: 0.9918 - val_loss: 0.4444 - val_accuracy: 0.8823\n",
      "Epoch 16/20\n",
      "234/235 [============================>.] - ETA: 0s - loss: 0.0218 - accuracy: 0.9931\n",
      "Epoch 00016: saving model to best_model.h5\n",
      "235/235 [==============================] - 22s 95ms/step - loss: 0.0218 - accuracy: 0.9931 - val_loss: 0.3490 - val_accuracy: 0.8960\n",
      "Epoch 17/20\n",
      "234/235 [============================>.] - ETA: 0s - loss: 0.0190 - accuracy: 0.9943\n",
      "Epoch 00017: saving model to best_model.h5\n",
      "235/235 [==============================] - 22s 94ms/step - loss: 0.0190 - accuracy: 0.9943 - val_loss: 0.1576 - val_accuracy: 0.9613\n",
      "Epoch 18/20\n",
      "235/235 [==============================] - ETA: 0s - loss: 0.0286 - accuracy: 0.9910\n",
      "Epoch 00018: saving model to best_model.h5\n",
      "235/235 [==============================] - 22s 95ms/step - loss: 0.0286 - accuracy: 0.9910 - val_loss: 0.4328 - val_accuracy: 0.8753\n",
      "Epoch 19/20\n",
      "234/235 [============================>.] - ETA: 0s - loss: 0.0289 - accuracy: 0.9913\n",
      "Epoch 00019: saving model to best_model.h5\n",
      "235/235 [==============================] - 22s 95ms/step - loss: 0.0289 - accuracy: 0.9913 - val_loss: 0.5126 - val_accuracy: 0.8553\n",
      "Epoch 20/20\n",
      "234/235 [============================>.] - ETA: 0s - loss: 0.0102 - accuracy: 0.9970\n",
      "Epoch 00020: saving model to best_model.h5\n",
      "235/235 [==============================] - 22s 95ms/step - loss: 0.0102 - accuracy: 0.9970 - val_loss: 0.1039 - val_accuracy: 0.9568\n"
     ]
    }
   ],
   "source": [
    "Optimizer = tf.keras.optimizers.Adam(lr=0.001)\n",
    "model.compile(loss='sparse_categorical_crossentropy', optimizer=Optimizer, metrics=['accuracy'])\n",
    "\n",
    "history = model.fit(x_train,\n",
    "                    y_train,\n",
    "                    validation_split=0.2,\n",
    "                    batch_size=128,\n",
    "                    epochs=20,\n",
    "                    shuffle=True,\n",
    "                    callbacks=[callback])"
   ]
  },
  {
   "cell_type": "code",
   "execution_count": null,
   "metadata": {
    "id": "4l8uEWYT9BhQ"
   },
   "outputs": [],
   "source": []
  },
  {
   "cell_type": "code",
   "execution_count": 22,
   "metadata": {
    "colab": {
     "base_uri": "https://localhost:8080/",
     "height": 295
    },
    "executionInfo": {
     "elapsed": 1144,
     "status": "ok",
     "timestamp": 1621329755359,
     "user": {
      "displayName": "Va Fa Napoli",
      "photoUrl": "",
      "userId": "17637464824648077645"
     },
     "user_tz": -330
    },
    "id": "EG1VFjp-H2oh",
    "outputId": "19033efb-45f2-4e70-c0b1-2fc06020a549"
   },
   "outputs": [
    {
     "data": {
      "image/png": "[encoded data removed]",
      "text/plain": [
       "<Figure size 432x288 with 1 Axes>"
      ]
     },
     "metadata": {
      "needs_background": "light"
     },
     "output_type": "display_data"
    }
   ],
   "source": [
    "plt.plot(history.history['accuracy'])\n",
    "plt.plot(history.history['val_accuracy'])\n",
    "plt.title('Model Accuracy')\n",
    "plt.xlabel('Epoch')\n",
    "plt.ylabel('Accuracy')\n",
    "plt.legend(['train', 'val'], loc = 'upper left')\n",
    "plt.show()"
   ]
  },
  {
   "cell_type": "code",
   "execution_count": 23,
   "metadata": {
    "colab": {
     "base_uri": "https://localhost:8080/",
     "height": 295
    },
    "executionInfo": {
     "elapsed": 987,
     "status": "ok",
     "timestamp": 1621329758820,
     "user": {
      "displayName": "Va Fa Napoli",
      "photoUrl": "",
      "userId": "17637464824648077645"
     },
     "user_tz": -330
    },
    "id": "zLKUKzd3JUip",
    "outputId": "1f5d9b32-6303-47bf-fa34-2cb8f4862873"
   },
   "outputs": [
    {
     "data": {
      "image/png": "[encoded data removed]",
      "text/plain": [
       "<Figure size 432x288 with 1 Axes>"
      ]
     },
     "metadata": {
      "needs_background": "light"
     },
     "output_type": "display_data"
    }
   ],
   "source": [
    "plt.plot(history.history['loss'])\n",
    "plt.plot(history.history['val_loss'])\n",
    "plt.title('model loss')\n",
    "plt.ylabel('loss')\n",
    "plt.xlabel('epoch')\n",
    "plt.legend(['train', 'val'], loc='upper left')\n",
    "plt.show()"
   ]
  },
  {
   "cell_type": "code",
   "execution_count": 24,
   "metadata": {
    "executionInfo": {
     "elapsed": 2015,
     "status": "ok",
     "timestamp": 1621491146258,
     "user": {
      "displayName": "Va Fa Napoli",
      "photoUrl": "",
      "userId": "17637464824648077645"
     },
     "user_tz": -330
    },
    "id": "KlksJw56Jcvd"
   },
   "outputs": [],
   "source": [
    "model.load_weights('best_model.h5')"
   ]
  },
  {
   "cell_type": "code",
   "execution_count": 25,
   "metadata": {
    "id": "RfgTt55_JnD4",
    "scrolled": true
   },
   "outputs": [
    {
     "name": "stdout",
     "output_type": "stream",
     "text": [
      "63/63 - 0s - loss: 1.4472 - accuracy: 0.7374\n"
     ]
    }
   ],
   "source": [
    "x_test = np.array(x_test).reshape(-1, 28, 28, 3)\n",
    "loss, acc = model.evaluate(x_test, y_test, verbose=2)"
   ]
  },
  {
   "cell_type": "code",
   "execution_count": 33,
   "metadata": {
    "colab": {
     "base_uri": "https://localhost:8080/"
    },
    "executionInfo": {
     "elapsed": 983,
     "status": "ok",
     "timestamp": 1621491685787,
     "user": {
      "displayName": "Va Fa Napoli",
      "photoUrl": "",
      "userId": "17637464824648077645"
     },
     "user_tz": -330
    },
    "id": "Vy8ETq0gJyM0",
    "outputId": "6c1d5c37-ba6e-47a1-fd9a-c9d4c7a3c3d9"
   },
   "outputs": [
    {
     "name": "stdout",
     "output_type": "stream",
     "text": [
      "melanocytic nevi(Non-Cancerous)\n",
      "Confidence:  99.98003840446472 %\n"
     ]
    }
   ],
   "source": [
    "import PIL\n",
    "\n",
    "img = PIL.Image.open(\"D:\\Project Data\\Part1\\ISIC_0024306.jpg\")\n",
    "img = img.resize((28, 28))\n",
    "img = np.array(img).reshape(-1, 28, 28, 3)\n",
    "result = model.predict(img)\n",
    "\n",
    "\n",
    "\n",
    "# print(result[0])\n",
    "\n",
    "result=result.tolist()\n",
    "max_prob=max(result[0])\n",
    "class_ind=result[0].index(max_prob)\n",
    "print(classes[class_ind])\n",
    "print(\"Confidence: \", max(result[0])*100,\"%\")"
   ]
  },
  {
   "cell_type": "code",
   "execution_count": 34,
   "metadata": {
    "id": "iQX8WB4ABUtY"
   },
   "outputs": [],
   "source": []
  },
  {
   "cell_type": "code",
   "execution_count": null,
   "metadata": {},
   "outputs": [],
   "source": []
  }
 ],
 "metadata": {
  "colab": {
   "authorship_tag": "ABX9TyPYy4s2G67O+XNXznvwLOoc",
   "collapsed_sections": [],
   "name": "skin_cancer_training.ipynb",
   "provenance": []
  },
  "kernelspec": {
   "display_name": "Python 3",
   "language": "python",
   "name": "python3"
  },
  "language_info": {
   "codemirror_mode": {
    "name": "ipython",
    "version": 3
   },
   "file_extension": ".py",
   "mimetype": "text/x-python",
   "name": "python",
   "nbconvert_exporter": "python",
   "pygments_lexer": "ipython3",
   "version": "3.8.13"
  }
 },
 "nbformat": 4,
 "nbformat_minor": 1
}
